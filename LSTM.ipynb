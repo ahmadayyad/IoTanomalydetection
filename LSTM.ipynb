{
  "nbformat": 4,
  "nbformat_minor": 0,
  "metadata": {
    "colab": {
      "name": "Untitled1.ipynb",
      "version": "0.3.2",
      "provenance": [],
      "collapsed_sections": [],
      "include_colab_link": true
    },
    "kernelspec": {
      "name": "python3",
      "display_name": "Python 3"
    },
    "accelerator": "GPU"
  },
  "cells": [
    {
      "cell_type": "markdown",
      "metadata": {
        "id": "view-in-github",
        "colab_type": "text"
      },
      "source": [
        "[View in Colaboratory](https://colab.research.google.com/github/ahmadayyad/IoTanomalydetection/blob/master/LSTM.ipynb)"
      ]
    },
    {
      "metadata": {
        "id": "hvAgbh0fgrDD",
        "colab_type": "code",
        "colab": {
          "resources": {
            "http://localhost:8080/nbextensions/google.colab/files.js": {
              "data": "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",
              "ok": true,
              "headers": [
                [
                  "content-type",
                  "application/javascript"
                ]
              ],
              "status": 200,
              "status_text": ""
            }
          },
          "base_uri": "https://localhost:8080/",
          "height": 72
        },
        "outputId": "c09d9e81-4b87-4c9f-b0a7-51a97259d6a8"
      },
      "cell_type": "code",
      "source": [
        "from google.colab import files\n",
        "uploaded = files.upload()"
      ],
      "execution_count": 1,
      "outputs": [
        {
          "output_type": "display_data",
          "data": {
            "text/html": [
              "\n",
              "     <input type=\"file\" id=\"files-031fdbf4-d813-4d00-8f51-2c9d66c5abdd\" name=\"files[]\" multiple disabled />\n",
              "     <output id=\"result-031fdbf4-d813-4d00-8f51-2c9d66c5abdd\">\n",
              "      Upload widget is only available when the cell has been executed in the\n",
              "      current browser session. Please rerun this cell to enable.\n",
              "      </output>\n",
              "      <script src=\"/nbextensions/google.colab/files.js\"></script> "
            ],
            "text/plain": [
              "<IPython.core.display.HTML object>"
            ]
          },
          "metadata": {
            "tags": []
          }
        },
        {
          "output_type": "stream",
          "text": [
            "Saving file_with_anamolies.csv to file_with_anamolies.csv\n"
          ],
          "name": "stdout"
        }
      ]
    },
    {
      "metadata": {
        "id": "SnI3vK1hhXoc",
        "colab_type": "code",
        "colab": {
          "base_uri": "https://localhost:8080/",
          "height": 34
        },
        "outputId": "110e0148-67cc-48d9-9c51-a778beec019f"
      },
      "cell_type": "code",
      "source": [
        "import pandas as pd\n",
        "import pandas as pd\n",
        "import io\n",
        "from pandas import read_csv\n",
        "from matplotlib import pyplot as plt\n",
        "from pandas import DataFrame\n",
        "from pandas import concat\n",
        "from math import sqrt\n",
        "from numpy import concatenate\n",
        "from sklearn.preprocessing import MinMaxScaler\n",
        "from sklearn.preprocessing import LabelEncoder\n",
        "from sklearn.metrics import mean_squared_error\n",
        "from keras.models import Sequential\n",
        "from keras.layers import Dense\n",
        "from keras.layers import LSTM"
      ],
      "execution_count": 2,
      "outputs": [
        {
          "output_type": "stream",
          "text": [
            "Using TensorFlow backend.\n"
          ],
          "name": "stderr"
        }
      ]
    },
    {
      "metadata": {
        "id": "y5z9ZsvXhZt_",
        "colab_type": "code",
        "colab": {
          "base_uri": "https://localhost:8080/",
          "height": 707
        },
        "outputId": "3b4e6d37-7d9d-4484-cb68-6a0a0beac842"
      },
      "cell_type": "code",
      "source": [
        "series=pd.DataFrame()\n",
        "series=read_csv(io.StringIO(uploaded['file_with_anamolies.csv'].decode('utf-8')),sep=',',index_col=0, parse_dates=[0],squeeze=True)\n",
        "series=series.loc[series['id']==1]\n",
        "series.drop('id', axis=1, inplace=True)\n",
        "series.drop('session', axis=1, inplace=True)\n",
        "series.drop('iaq_acc', axis=1, inplace=True)\n",
        "series.drop('inc', axis=1, inplace=True)\n",
        "series.drop('iaq', axis=1, inplace=True)\n",
        "print(type(series))\n",
        "print(series.head())\n",
        "print(series.shape)\n",
        "#print(series['2018-06-30 19:05'])\n",
        "print(series.describe())\n",
        "#series['temp_C'].plot.line()\n",
        "#series['humid_%'].plot.line()\n",
        "series.plot(subplots=True)"
      ],
      "execution_count": 4,
      "outputs": [
        {
          "output_type": "stream",
          "text": [
            "<class 'pandas.core.frame.DataFrame'>\n",
            "                     temp_C  humid_%\n",
            "timestamp                           \n",
            "2018-06-30 19:05:37   20.90    65.72\n",
            "2018-06-30 19:06:10   20.95    65.58\n",
            "2018-06-30 19:07:13   20.97    65.36\n",
            "2018-06-30 19:07:43   21.02    65.28\n",
            "2018-06-30 19:08:13   21.03    65.31\n",
            "(9991, 2)\n",
            "            temp_C      humid_%\n",
            "count  9991.000000  9991.000000\n",
            "mean     20.417435    56.432975\n",
            "std       1.302566     5.019017\n",
            "min     -12.650000    45.530000\n",
            "25%      20.000000    52.620000\n",
            "50%      20.340000    57.190000\n",
            "75%      20.710000    58.880000\n",
            "max      68.180000   105.410000\n"
          ],
          "name": "stdout"
        },
        {
          "output_type": "execute_result",
          "data": {
            "text/plain": [
              "array([<matplotlib.axes._subplots.AxesSubplot object at 0x7ff9e28fe6a0>,\n",
              "       <matplotlib.axes._subplots.AxesSubplot object at 0x7ff9e287db00>],\n",
              "      dtype=object)"
            ]
          },
          "metadata": {
            "tags": []
          },
          "execution_count": 4
        },
        {
          "output_type": "display_data",
          "data": {
            "image/png": "[encoded data removed]",
            "text/plain": [
              "<matplotlib.figure.Figure at 0x7ff9e28f2b00>"
            ]
          },
          "metadata": {
            "tags": []
          }
        }
      ]
    },
    {
      "metadata": {
        "id": "HBf5UXE8ipf_",
        "colab_type": "code",
        "colab": {}
      },
      "cell_type": "code",
      "source": [
        "def series_to_supervised(data, n_in=1, n_out=1, dropnan=True): \n",
        "\n",
        "    n_vars = 1 if type(data) is list else data.shape[1]\n",
        "    df = DataFrame(data)\n",
        "    cols, names = list(), list()\n",
        "    # input sequence (t-n, ... t-1)\n",
        "    for i in range(n_in, 0, -1):\n",
        "        cols.append(df.shift(i))\n",
        "        names += [('var%d(t-%d)' % (j+1, i)) for j in range(n_vars)]\n",
        "    # forecast sequence (t, t+1, ... t+n)\n",
        "    for i in range(0, n_out):\n",
        "        cols.append(df.shift(-i))\n",
        "        if i == 0:\n",
        "            names += [('var%d(t)' % (j+1)) for j in range(n_vars)]\n",
        "        else:\n",
        "            names += [('var%d(t+%d)' % (j+1, i)) for j in range(n_vars)]\n",
        "    # put it all together\n",
        "    agg = concat(cols, axis=1)\n",
        "    agg.columns = names\n",
        "    # drop rows with NaN values\n",
        "    if dropnan:\n",
        "        agg.dropna(inplace=True)\n",
        "    return agg"
      ],
      "execution_count": 0,
      "outputs": []
    },
    {
      "metadata": {
        "id": "3fDzODDiiviW",
        "colab_type": "code",
        "colab": {}
      },
      "cell_type": "code",
      "source": [
        "values = series.values\n",
        "# ensure all data is float\n",
        "values = values.astype('float32')\n",
        "# normalize features\n",
        "scaler = MinMaxScaler(feature_range=(0, 1))\n",
        "scaled = scaler.fit_transform(values)\n"
      ],
      "execution_count": 0,
      "outputs": []
    },
    {
      "metadata": {
        "id": "912c1gcDiyNn",
        "colab_type": "code",
        "colab": {
          "base_uri": "https://localhost:8080/",
          "height": 34
        },
        "outputId": "0b1ea34f-b971-441b-c379-211e4b268517"
      },
      "cell_type": "code",
      "source": [
        "n_mins = 10\n",
        "n_features = 2\n",
        "# frame as supervised learning\n",
        "reframed = series_to_supervised(scaled, n_mins, 1)\n",
        "print(reframed.shape)"
      ],
      "execution_count": 15,
      "outputs": [
        {
          "output_type": "stream",
          "text": [
            "(9981, 22)\n"
          ],
          "name": "stdout"
        }
      ]
    },
    {
      "metadata": {
        "id": "oRlp1xW5i0MI",
        "colab_type": "code",
        "colab": {
          "base_uri": "https://localhost:8080/",
          "height": 34
        },
        "outputId": "8bd5e550-16d7-4666-be0f-4231942bba2a"
      },
      "cell_type": "code",
      "source": [
        "values = reframed.values\n",
        "n_train_mins = 6000\n",
        "train = values[:n_train_mins, :]\n",
        "test = values[n_train_mins:, :]\n",
        "# split into input and outputs\n",
        "n_obs = n_mins * n_features\n",
        "train_X, train_y = train[:, :n_obs], train[:, -n_features]\n",
        "test_X, test_y = test[:, :n_obs], test[:, -n_features]\n",
        "print(train_X.shape, len(train_X), train_y.shape)\n"
      ],
      "execution_count": 50,
      "outputs": [
        {
          "output_type": "stream",
          "text": [
            "(6000, 20) 6000 (6000,)\n"
          ],
          "name": "stdout"
        }
      ]
    },
    {
      "metadata": {
        "id": "vsoVKpezi3BS",
        "colab_type": "code",
        "colab": {
          "base_uri": "https://localhost:8080/",
          "height": 867
        },
        "outputId": "1cbace59-4b7b-4ac2-a3c3-bb18f09bcecc"
      },
      "cell_type": "code",
      "source": [
        "# reshape input to be 3D [samples, timesteps, features]\n",
        "train_X = train_X.reshape((train_X.shape[0], n_mins, n_features))\n",
        "test_X = test_X.reshape((test_X.shape[0], n_mins, n_features))\n",
        "print(train_X.shape, train_y.shape, test_X.shape, test_y.shape)\n",
        "print(test_X)"
      ],
      "execution_count": 51,
      "outputs": [
        {
          "output_type": "stream",
          "text": [
            "(6000, 10, 2) (6000,) (3981, 10, 2) (3981,)\n",
            "[[[0.412718   0.08500332]\n",
            "  [0.41284174 0.0870074 ]\n",
            "  [0.41296542 0.0878424 ]\n",
            "  ...\n",
            "  [0.41395515 0.08533734]\n",
            "  [0.41383147 0.08517039]\n",
            "  [0.41358405 0.08617234]]\n",
            "\n",
            " [[0.41284174 0.0870074 ]\n",
            "  [0.41296542 0.0878424 ]\n",
            "  [0.41333658 0.08967942]\n",
            "  ...\n",
            "  [0.41383147 0.08517039]\n",
            "  [0.41358405 0.08617234]\n",
            "  [0.4134603  0.0870074 ]]\n",
            "\n",
            " [[0.41296542 0.0878424 ]\n",
            "  [0.41333658 0.08967942]\n",
            "  [0.41370773 0.08734131]\n",
            "  ...\n",
            "  [0.41358405 0.08617234]\n",
            "  [0.4134603  0.0870074 ]\n",
            "  [0.41308916 0.08917838]]\n",
            "\n",
            " ...\n",
            "\n",
            " [[0.40603733 0.2226119 ]\n",
            "  [0.4059136  0.22361386]\n",
            "  [0.4059136  0.22294593]\n",
            "  ...\n",
            "  [0.40603733 0.22444892]\n",
            "  [0.40566617 0.2266199 ]\n",
            "  [0.40603733 0.2249499 ]]\n",
            "\n",
            " [[0.4059136  0.22361386]\n",
            "  [0.4059136  0.22294593]\n",
            "  [0.40603733 0.22311288]\n",
            "  ...\n",
            "  [0.40566617 0.2266199 ]\n",
            "  [0.40603733 0.2249499 ]\n",
            "  [0.40616104 0.2242819 ]]\n",
            "\n",
            " [[0.4059136  0.22294593]\n",
            "  [0.40603733 0.22311288]\n",
            "  [0.4059136  0.22444892]\n",
            "  ...\n",
            "  [0.40603733 0.2249499 ]\n",
            "  [0.40616104 0.2242819 ]\n",
            "  [0.40653217 0.22311288]]]\n"
          ],
          "name": "stdout"
        }
      ]
    },
    {
      "metadata": {
        "id": "TTLuIEL3i5Qs",
        "colab_type": "code",
        "colab": {
          "base_uri": "https://localhost:8080/",
          "height": 2064
        },
        "outputId": "db8356a1-f0dc-4f9e-a1d7-43b770c071dc"
      },
      "cell_type": "code",
      "source": [
        "# design network\n",
        "model = Sequential()\n",
        "model.add(LSTM(50, input_shape=(train_X.shape[1], train_X.shape[2])))\n",
        "model.add(Dense(1))\n",
        "model.compile(loss='mae', optimizer='adam')\n",
        "# fit network\n",
        "history = model.fit(train_X, train_y, epochs=50, batch_size=72, validation_data=(test_X, test_y), verbose=2, shuffle=False)\n",
        "# plot history\n",
        "plt.plot(history.history['loss'], label='train')\n",
        "plt.plot(history.history['val_loss'], label='test')\n",
        "plt.legend()\n",
        "plt.show()"
      ],
      "execution_count": 52,
      "outputs": [
        {
          "output_type": "stream",
          "text": [
            "Train on 6000 samples, validate on 3981 samples\n",
            "Epoch 1/50\n",
            " - 3s - loss: 0.0590 - val_loss: 0.0240\n",
            "Epoch 2/50\n",
            " - 3s - loss: 0.0197 - val_loss: 0.0366\n",
            "Epoch 3/50\n",
            " - 3s - loss: 0.0250 - val_loss: 0.0643\n",
            "Epoch 4/50\n",
            " - 3s - loss: 0.0254 - val_loss: 0.0593\n",
            "Epoch 5/50\n",
            " - 3s - loss: 0.0205 - val_loss: 0.0283\n",
            "Epoch 6/50\n",
            " - 3s - loss: 0.0201 - val_loss: 0.0595\n",
            "Epoch 7/50\n",
            " - 3s - loss: 0.0220 - val_loss: 0.0443\n",
            "Epoch 8/50\n",
            " - 3s - loss: 0.0148 - val_loss: 0.0295\n",
            "Epoch 9/50\n",
            " - 3s - loss: 0.0124 - val_loss: 0.0336\n",
            "Epoch 10/50\n",
            " - 3s - loss: 0.0118 - val_loss: 0.0293\n",
            "Epoch 11/50\n",
            " - 3s - loss: 0.0121 - val_loss: 0.0337\n",
            "Epoch 12/50\n",
            " - 3s - loss: 0.0111 - val_loss: 0.0243\n",
            "Epoch 13/50\n",
            " - 3s - loss: 0.0133 - val_loss: 0.0308\n",
            "Epoch 14/50\n",
            " - 3s - loss: 0.0100 - val_loss: 0.0148\n",
            "Epoch 15/50\n",
            " - 3s - loss: 0.0130 - val_loss: 0.0401\n",
            "Epoch 16/50\n",
            " - 3s - loss: 0.0141 - val_loss: 0.0221\n",
            "Epoch 17/50\n",
            " - 3s - loss: 0.0105 - val_loss: 0.0211\n",
            "Epoch 18/50\n",
            " - 3s - loss: 0.0103 - val_loss: 0.0351\n",
            "Epoch 19/50\n",
            " - 3s - loss: 0.0118 - val_loss: 0.0219\n",
            "Epoch 20/50\n",
            " - 3s - loss: 0.0114 - val_loss: 0.0354\n",
            "Epoch 21/50\n",
            " - 3s - loss: 0.0140 - val_loss: 0.0320\n",
            "Epoch 22/50\n",
            " - 3s - loss: 0.0089 - val_loss: 0.0185\n",
            "Epoch 23/50\n",
            " - 3s - loss: 0.0069 - val_loss: 0.0120\n",
            "Epoch 24/50\n",
            " - 3s - loss: 0.0086 - val_loss: 0.0207\n",
            "Epoch 25/50\n",
            " - 3s - loss: 0.0099 - val_loss: 0.0326\n",
            "Epoch 26/50\n",
            " - 3s - loss: 0.0120 - val_loss: 0.0286\n",
            "Epoch 27/50\n",
            " - 3s - loss: 0.0083 - val_loss: 0.0175\n",
            "Epoch 28/50\n",
            " - 3s - loss: 0.0080 - val_loss: 0.0181\n",
            "Epoch 29/50\n",
            " - 3s - loss: 0.0096 - val_loss: 0.0344\n",
            "Epoch 30/50\n",
            " - 3s - loss: 0.0111 - val_loss: 0.0137\n",
            "Epoch 31/50\n",
            " - 3s - loss: 0.0076 - val_loss: 0.0258\n",
            "Epoch 32/50\n",
            " - 3s - loss: 0.0075 - val_loss: 0.0113\n",
            "Epoch 33/50\n",
            " - 3s - loss: 0.0072 - val_loss: 0.0190\n",
            "Epoch 34/50\n",
            " - 3s - loss: 0.0070 - val_loss: 0.0244\n",
            "Epoch 35/50\n",
            " - 3s - loss: 0.0095 - val_loss: 0.0246\n",
            "Epoch 36/50\n",
            " - 3s - loss: 0.0079 - val_loss: 0.0139\n",
            "Epoch 37/50\n",
            " - 3s - loss: 0.0076 - val_loss: 0.0288\n",
            "Epoch 38/50\n",
            " - 3s - loss: 0.0097 - val_loss: 0.0231\n",
            "Epoch 39/50\n",
            " - 3s - loss: 0.0071 - val_loss: 0.0162\n",
            "Epoch 40/50\n",
            " - 3s - loss: 0.0065 - val_loss: 0.0162\n",
            "Epoch 41/50\n",
            " - 3s - loss: 0.0066 - val_loss: 0.0164\n",
            "Epoch 42/50\n",
            " - 3s - loss: 0.0069 - val_loss: 0.0232\n",
            "Epoch 43/50\n",
            " - 3s - loss: 0.0084 - val_loss: 0.0225\n",
            "Epoch 44/50\n",
            " - 3s - loss: 0.0082 - val_loss: 0.0220\n",
            "Epoch 45/50\n",
            " - 3s - loss: 0.0078 - val_loss: 0.0248\n",
            "Epoch 46/50\n",
            " - 3s - loss: 0.0072 - val_loss: 0.0161\n",
            "Epoch 47/50\n",
            " - 3s - loss: 0.0068 - val_loss: 0.0224\n",
            "Epoch 48/50\n",
            " - 3s - loss: 0.0081 - val_loss: 0.0270\n",
            "Epoch 49/50\n",
            " - 3s - loss: 0.0072 - val_loss: 0.0125\n",
            "Epoch 50/50\n",
            " - 3s - loss: 0.0061 - val_loss: 0.0234\n"
          ],
          "name": "stdout"
        },
        {
          "output_type": "display_data",
          "data": {
            "image/png": "[encoded data removed]",
            "text/plain": [
              "<matplotlib.figure.Figure at 0x7ff9b91c2860>"
            ]
          },
          "metadata": {
            "tags": []
          }
        }
      ]
    },
    {
      "metadata": {
        "id": "ms42Jjflk6ot",
        "colab_type": "code",
        "colab": {
          "base_uri": "https://localhost:8080/",
          "height": 187
        },
        "outputId": "f38c6501-14ca-4345-d5af-b3a56c866522"
      },
      "cell_type": "code",
      "source": [
        "# make a prediction\n",
        "yhat = model.predict(test_X)\n",
        "\n",
        "print(yhat)\n",
        "print(yhat.shape)\n",
        "test_xx = test_X.reshape((test_X.shape[0], n_mins*n_features))\n",
        "print(test_xx.shape)\n",
        "inv_yhat = concatenate((yhat, test_xx[:, -1:]), axis=1)\n",
        "print(inv_yhat.shape)"
      ],
      "execution_count": 53,
      "outputs": [
        {
          "output_type": "stream",
          "text": [
            "[[0.4282711 ]\n",
            " [0.42827636]\n",
            " [0.4282838 ]\n",
            " ...\n",
            " [0.437356  ]\n",
            " [0.43737745]\n",
            " [0.4374084 ]]\n",
            "(3981, 1)\n",
            "(3981, 20)\n",
            "(3981, 2)\n"
          ],
          "name": "stdout"
        }
      ]
    },
    {
      "metadata": {
        "id": "feHbbRjuorga",
        "colab_type": "code",
        "colab": {
          "base_uri": "https://localhost:8080/",
          "height": 136
        },
        "outputId": "31c6ba3c-9cfa-4206-be29-1e2c71af55c5"
      },
      "cell_type": "code",
      "source": [
        "\n",
        "# invert scaling for forecast\n",
        "inv_yhat = scaler.inverse_transform(inv_yhat)\n",
        "inv_yhat = inv_yhat[:,:]\n",
        "print(inv_yhat)\n",
        "\n"
      ],
      "execution_count": 54,
      "outputs": [
        {
          "output_type": "stream",
          "text": [
            "[[21.967155 50.69    ]\n",
            " [21.96758  50.74    ]\n",
            " [21.968182 50.87    ]\n",
            " ...\n",
            " [22.701487 59.      ]\n",
            " [22.703222 58.96    ]\n",
            " [22.70572  58.89    ]]\n"
          ],
          "name": "stdout"
        }
      ]
    },
    {
      "metadata": {
        "id": "91xinIbR291-",
        "colab_type": "code",
        "colab": {
          "base_uri": "https://localhost:8080/",
          "height": 153
        },
        "outputId": "c8a4f086-4f26-4f34-915a-241217c45533"
      },
      "cell_type": "code",
      "source": [
        "# invert scaling for actual\n",
        "test_y = test_y.reshape((len(test_y), 1))\n",
        "print(test_y.shape,test_X.shape)\n",
        "inv_y = concatenate((test_y, test_xx[:, -1:]), axis=1)\n",
        "inv_y = scaler.inverse_transform(inv_y)\n",
        "inv_y = inv_y[:,:]\n",
        "print(inv_y)"
      ],
      "execution_count": 55,
      "outputs": [
        {
          "output_type": "stream",
          "text": [
            "(3981, 1) (3981, 10, 2)\n",
            "[[20.769999 50.69    ]\n",
            " [20.739998 50.74    ]\n",
            " [20.739998 50.87    ]\n",
            " ...\n",
            " [20.18     59.      ]\n",
            " [20.209997 58.96    ]\n",
            " [20.22     58.89    ]]\n"
          ],
          "name": "stdout"
        }
      ]
    },
    {
      "metadata": {
        "id": "IPse8wZE2sSl",
        "colab_type": "code",
        "colab": {
          "base_uri": "https://localhost:8080/",
          "height": 34
        },
        "outputId": "4977ab73-449d-41b3-d2dc-0673a98db966"
      },
      "cell_type": "code",
      "source": [
        "# calculate RMSE\n",
        "rmse = sqrt(mean_squared_error(inv_y, inv_yhat))\n",
        "print('Test RMSE: %.3f' % rmse)"
      ],
      "execution_count": 56,
      "outputs": [
        {
          "output_type": "stream",
          "text": [
            "Test RMSE: 1.616\n"
          ],
          "name": "stdout"
        }
      ]
    }
  ]
}